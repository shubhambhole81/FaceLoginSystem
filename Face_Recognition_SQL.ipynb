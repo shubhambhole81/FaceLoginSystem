{
 "cells": [
  {
   "cell_type": "code",
   "execution_count": null,
   "id": "99191b26",
   "metadata": {},
   "outputs": [],
   "source": [
    "import face_recognition\n",
    "import cv2\n",
    "import mysql.connector\n",
    "import os\n",
    "from io import BytesIO\n",
    "\n",
    "\n",
    "host = 'localhost'\n",
    "user = 'root'\n",
    "password = 'root'\n",
    "database = 'face_recognition'\n",
    "conn = mysql.connector.connect(host=host,user=user, password=password, database=database)\n",
    "cursor = conn.cursor()\n",
    "cursor.execute(\"select labels,images from face\")\n",
    "rows = cursor.fetchall()\n",
    "\n",
    "known_face_names=[]\n",
    "known_face_encodings =[]\n",
    "\n",
    "for r in rows:\n",
    "    known_face_encodings.append(face_recognition.face_encodings(face_recognition.load_image_file(BytesIO(r[1])))[0])\n",
    "\n",
    "    known_face_names.append(r[0])"
   ]
  },
  {
   "cell_type": "code",
   "execution_count": null,
   "id": "01d31a49",
   "metadata": {},
   "outputs": [],
   "source": [
    "video_capture = cv2.VideoCapture(0)\n",
    "\n",
    "\n",
    "while True:\n",
    "    ret, frame = video_capture.read()\n",
    "\n",
    "    rgb_frame = frame[:, :, ::-1]\n",
    "\n",
    "    face_locations = face_recognition.face_locations(rgb_frame)\n",
    "    face_encodings = face_recognition.face_encodings(rgb_frame, face_locations)\n",
    "\n",
    "    # loop through each face in this frame of video\n",
    "    for (top, right, bottom, left), face_encoding in zip(face_locations, face_encodings):\n",
    "        matches = face_recognition.compare_faces(known_face_encodings, face_encoding)\n",
    "\n",
    "        name = \"Unknown Person\"\n",
    "\n",
    "        if True in matches:\n",
    "            first_match_index = matches.index(True)\n",
    "            name = known_face_names[first_match_index]\n",
    "        cv2.rectangle(frame, (left, top), (right, bottom), (0, 0, 255),2)\n",
    "        cv2.rectangle(frame, (left, bottom - 35), (right, bottom), (0, 0, 255), cv2.FILLED)\n",
    "        font = cv2.FONT_HERSHEY_DUPLEX\n",
    "        cv2.putText(frame, name, (left + 6, bottom - 6), font, 1.0, (255, 255, 255), 1)\n",
    "        if (name == \"Unknown Person\"):\n",
    "            print(\"You are not Registered, Register your self first\")\n",
    "    cv2.imshow('Video', frame)\n",
    "\n",
    "    # Q to quit!\n",
    "    if cv2.waitKey(1) & 0xFF == ord('q'):\n",
    "        break\n",
    "video_capture.release()\n",
    "cv2.destroyAllWindows()"
   ]
  },
  {
   "cell_type": "code",
   "execution_count": null,
   "id": "7cb71db5",
   "metadata": {},
   "outputs": [],
   "source": []
  }
 ],
 "metadata": {
  "kernelspec": {
   "display_name": "Python 3 (ipykernel)",
   "language": "python",
   "name": "python3"
  },
  "language_info": {
   "codemirror_mode": {
    "name": "ipython",
    "version": 3
   },
   "file_extension": ".py",
   "mimetype": "text/x-python",
   "name": "python",
   "nbconvert_exporter": "python",
   "pygments_lexer": "ipython3",
   "version": "3.8.11"
  }
 },
 "nbformat": 4,
 "nbformat_minor": 5
}
